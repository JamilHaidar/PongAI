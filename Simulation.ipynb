{
  "nbformat": 4,
  "nbformat_minor": 0,
  "metadata": {
    "colab": {
      "provenance": []
    },
    "kernelspec": {
      "name": "python3",
      "display_name": "Python 3"
    },
    "language_info": {
      "name": "python"
    }
  },
  "cells": [
    {
      "cell_type": "markdown",
      "source": [
        "# Exploratory Machine Learning models on the game of Pong\n",
        "In this project, I will create the game of Pong, from scratch, and attempt to apply multiple machine learning approaches on it. I chose to do this since if I use a public dataset, I would just be reusing someone's data and replicating their results. Instead, I wanted to create my own dataset.\n",
        "\n",
        "First, I create the game: \n",
        "\n",
        "There are two players (left and right paddle), and a ball that bounces at the box walls (up and down).\n",
        "\n",
        "The ball moves in a linear motion with constant speed when in the middle of the box, reflects speed when it hits one of the wall edges, and reflects non-linearly when it hits a paddle (according to where it hits the paddle and its previous direction).\n",
        "\n",
        "I coded two different AI for the left and right paddles:\n",
        "  - The left paddle attempts to keep the ball within its length as long as the ball is within its side of the box (half the box). If the ball is on the other side, the left player moves the paddle to the middle, making it easier to reach all sides of the board when the ball comes back to their side of the box.\n",
        "  - The right paddle attempts to keep the ball very close to the center of its length, there are some edge cases at the edges (where the paddle stops since it can't go outside the box). The right paddle follows the ball the entire time.\n",
        "\n",
        "The ball has float values for its speed, which keep changing whenever a paddle hits it (due to non-linear reflection) but the measurements (the image seen) is a 128x192 image, therefore, the ball position is converted to an integer before outputting the frame. Finally, whenever a ball is reflected by a paddle, not only is there a non-linear function affecting its reflected speed, but also additive noise.\n",
        "\n",
        "A game is played until one player scores or 1000 frames have passed. I created a game recorder object to record each game. Games are played and recorded indefinitely until 50 games are won (one player has scored). This is random, each game's ball has a random initial velocity, random initial position, and nonlinear paddle reflections. However, I noticed that on average, I need 100-150 total games at most for 50 games to be won."
      ],
      "metadata": {
        "id": "JJwGIebfF-Tx"
      }
    },
    {
      "cell_type": "markdown",
      "source": [
        "# Models applied\n",
        "I will attempt to implement multiple models, some have timeseries and some have CNNs, and some are chained models.\n",
        "\n",
        "## For Estimating the ball's position and each paddle's position\n",
        "I utilize a CNN-based model. The output could either be the position directly (linear - mse), or one-hot encoded coordinates since we know the image size (softmax - categorical crossentropy)\n",
        "\n",
        "## For estimating the ball's velocity\n",
        "This requires a timeseries, and not just two frames. Assume the ball's speed is 0.2 in the x direction. It will take 5 frames until the ball moves one pixel in the x direction. This will take its input from the ball position model!\n",
        "\n",
        "## For detecting ball bounce\n",
        "This is a boolean, 0 or 1. We will use the ball position model to detect this (sigmoid - binary creossentropy)."
      ],
      "metadata": {
        "id": "Y-QSJpd6JcUD"
      }
    },
    {
      "cell_type": "markdown",
      "source": [
        "#Preamble"
      ],
      "metadata": {
        "id": "-kNmKTa2K7gv"
      }
    },
    {
      "cell_type": "code",
      "source": [
        "from tensorflow.python.keras.engine.base_layer_utils import uses_keras_history\n",
        "from tensorflow.keras.utils import plot_model\n",
        "from tensorflow.keras.models import Sequential, Model\n",
        "from tensorflow.keras.layers import Permute, AveragePooling2D, Concatenate\n",
        "from tensorflow.keras.layers import Dense, Flatten, Reshape, Conv2D, LayerNormalization, SimpleRNN\n",
        "from tensorflow.keras.layers import MaxPooling2D, GlobalAveragePooling2D, ConvLSTM2D, LSTM, Input\n",
        "from tensorflow.keras.preprocessing.sequence import TimeseriesGenerator\n",
        "from tensorflow.keras.callbacks import EarlyStopping,ModelCheckpoint\n",
        "import pandas as pd\n",
        "import matplotlib.pyplot as plt\n",
        "import tensorflow as tf\n",
        "\n",
        "# from google.colab.patches import cv2_imshow\n",
        "early_stop = EarlyStopping(monitor='loss',patience=2,restore_best_weights=True)"
      ],
      "metadata": {
        "id": "uP_SQVPimPhP"
      },
      "execution_count": 134,
      "outputs": []
    },
    {
      "cell_type": "markdown",
      "source": [
        "# Class Creation (Game and Recorder)"
      ],
      "metadata": {
        "id": "lgSHlk_EK9vQ"
      }
    },
    {
      "cell_type": "code",
      "execution_count": 2,
      "metadata": {
        "id": "FcqDv0hPnL_v"
      },
      "outputs": [],
      "source": [
        "class GameRecorder:\n",
        "    def __init__(self,game):\n",
        "        self.borders = [0,game.box_size[1]]\n",
        "        self.bounce = []\n",
        "        self.collision = []\n",
        "        self.left_collision = []\n",
        "        self.right_collision = [] # Conv2d -> Dense(sigmoid)\n",
        "        self.ball_pos = [] # Conv2d -> Dense\n",
        "        self.ball_vel = [] # ball_pos -> TimeSeries -> Dense (Nonlinear)\n",
        "        self.left_pos = [] # Conv2d -> Dense\n",
        "        self.right_pos = [] # Conv2d -> Dense\n",
        "        self.left_vel = [] # left_pos -> TimeSeries -> Dense\n",
        "        self.right_vel = [] # right_pos -> TimeSeries -> Dense\n",
        "        self.gameOver = False\n",
        "        self.frame_count = -1\n",
        "        self.frames = []\n",
        "\n",
        "    def save_states(self,game):\n",
        "        self.frame_count+=1\n",
        "        self.frames.append(game.board)\n",
        "        self.bounce.append(game.bounce[1])\n",
        "        self.collision.append(game.collision)\n",
        "        self.left_collision.append(game.left_collision)\n",
        "        self.right_collision.append(game.right_collision)\n",
        "        self.ball_pos.append(game.ball_pos.copy())\n",
        "        self.ball_vel.append(game.ball_speed.copy())\n",
        "        self.left_pos.append(game.left_paddle_pos[1])\n",
        "        self.right_pos.append(game.right_paddle_pos[1])\n",
        "        self.left_vel.append(game.left_paddle_speed[1])\n",
        "        self.right_vel.append(game.right_paddle_speed[1])\n",
        "        self.gameOver = game.gameOver\n",
        "class Pong:\n",
        "    def __init__(self,randomize):\n",
        "        self.box_size = (128,128+64)\n",
        "\n",
        "        self.paddle_size = (4,20)\n",
        "        self.left_paddle_pos = [0,(self.box_size[1]-self.paddle_size[1])//2]\n",
        "        self.right_paddle_pos = [self.box_size[0]-self.paddle_size[0],(self.box_size[1]-self.paddle_size[1])//2]\n",
        "        \n",
        "        self.paddle_speed_mag = 2\n",
        "        self.left_paddle_speed = [0,self.paddle_speed_mag]\n",
        "        self.right_paddle_speed = [0,self.paddle_speed_mag]\n",
        "        self.right_follow_margin = self.paddle_size[1]//4\n",
        "        self.left_follow_margin = self.right_follow_margin//4\n",
        "\n",
        "#         self.right_follow_margin = self.paddle_size[1]//4\n",
        "#         self.left_follow_margin = self.right_follow_margin//4\n",
        "#         self.max_reflection_range = [0.5,1.5]\n",
        "        self.max_speed = 4\n",
        "        self.eps = 0.1\n",
        "        self.ball_size = (3,3)\n",
        "        self.ball_pos = np.array([self.left_paddle_pos[0]+5,self.left_paddle_pos[1]],dtype=np.float64)\n",
        "        self.ball_speed = np.array([2,2],dtype=np.float64)\n",
        "        if randomize:\n",
        "            self.ball_speed = np.array([np.random.random()*1.5+1.25,np.random.random()*1.5+1.25],dtype=np.float64)\n",
        "            self.ball_pos = np.array([self.left_paddle_pos[0]+5,np.random.random()*(self.box_size[1]-self.ball_size[1]-10)+5],dtype=np.float64)\n",
        "        self.init_speed = self.ball_speed.copy()\n",
        "        self.collision = False\n",
        "        self.left_collision = False\n",
        "        self.right_collision = False\n",
        "        self.saved_bounce = []\n",
        "        self.saved_ball_speed = []\n",
        "        self.saved_ball_pos = []\n",
        "        self.gameOver = False\n",
        "        self.bounce = [False,False]\n",
        "    def check_collision_left(self):\n",
        "        self.left_collision = self.ball_pos[0]<=self.left_paddle_pos[0]+self.paddle_size[0]\\\n",
        "                and self.ball_pos[1]<=self.paddle_size[1]+self.left_paddle_pos[1]\\\n",
        "                and self.ball_pos[1]+self.ball_size[1]>=self.left_paddle_pos[1]\n",
        "        return self.left_collision\n",
        "    def check_collision_right(self):\n",
        "        self.right_collision = self.ball_pos[0]+self.ball_size[0]>=self.right_paddle_pos[0]\\\n",
        "                and self.ball_pos[1]<=self.paddle_size[1]+self.right_paddle_pos[1]\\\n",
        "                and self.ball_pos[1]+self.ball_size[1]>=self.right_paddle_pos[1]\n",
        "        return self.right_collision\n",
        "    \n",
        "    def simulate_ball(self):\n",
        "        self.bounce = [False,False]\n",
        "#         if self.ball_pos[0]+self.ball_size[0]>=self.box_size[0] or self.ball_pos[0]<=0:\n",
        "#             self.ball_speed[0] *= -1\n",
        "#             bounce[0] = True\n",
        "        self.collision = False\n",
        "        paddle_collided,clip_pos = (self.left_paddle_pos,self.left_paddle_pos[0]+self.paddle_size[0]) if self.check_collision_left() else (False,0)\n",
        "        paddle_collided,clip_pos = (self.right_paddle_pos,self.right_paddle_pos[0]-self.ball_size[0]) if self.check_collision_right() else (paddle_collided,clip_pos)\n",
        "\n",
        "        if paddle_collided:\n",
        "            self.collision = True\n",
        "            self.ball_pos[0] = clip_pos\n",
        "            \n",
        "            reflection_ratio = self.ball_pos[1]+self.ball_size[1]//2 - (paddle_collided[1]+self.paddle_size[1]//2)\n",
        "            reflection_ratio /= (self.paddle_size[1]//2)\n",
        "            reflection_ratio *= 5*np.pi/12 #max angle\n",
        "            \n",
        "            self.ball_speed[0] = -np.sign(self.ball_speed[0])*round(self.init_speed[0]*np.cos(reflection_ratio),2)\n",
        "            self.ball_speed[1] =  round(self.init_speed[1]*np.sin(reflection_ratio),2)\n",
        "\n",
        "            self.ball_speed[0] = min(self.max_speed,round(self.ball_speed[0]+(np.random.random()*self.eps*np.sign(self.ball_speed[0])),2))\n",
        "            self.ball_speed[1] = min(self.max_speed,round(self.ball_speed[1]+(np.random.random()*self.eps*np.sign(self.ball_speed[1])),2))\n",
        "#             print(self.ball_pos,self.ball_speed)\n",
        "#             self.ball_speed[0] *= -1\n",
        "\n",
        "        if self.ball_pos[0]+self.ball_size[0]>=self.box_size[0] or self.ball_pos[0]<=0:\n",
        "            self.gameOver = True\n",
        "#             self.ball_speed[0] *= -1\n",
        "#             bounce[0] = True\n",
        "        \n",
        "        if self.ball_pos[1]+self.ball_size[1]>=self.box_size[1] or self.ball_pos[1]<=0:\n",
        "            self.ball_speed[1] *= -1\n",
        "            self.bounce[1] = True\n",
        "        self.saved_bounce.append(self.bounce)\n",
        "        self.saved_ball_speed.append(self.ball_speed.copy())\n",
        "        self.ball_pos += self.ball_speed\n",
        "        self.saved_ball_pos.append(self.ball_pos.copy())\n",
        "    def simulate_paddle_left(self):\n",
        "#         print(self.right_paddle_pos[1],self.right_paddle_speed[1],self.ball_speed)\n",
        "#         if self.left_paddle_pos[1]+self.paddle_size[1]>=self.box_size[1] or self.left_paddle_pos[1]<=0:\n",
        "#             self.left_paddle_speed[1] *= -1\n",
        "#         self.left_paddle_pos[1]+=self.left_paddle_speed[1]\n",
        "        \n",
        "        if self.ball_pos[0]<=self.box_size[0]//2:\n",
        "            self.dist = np.sign(self.ball_pos[1]+self.ball_size[1]//2-(self.left_paddle_pos[1]+self.paddle_size[1]//2))\n",
        "            if self.left_paddle_pos[1]+self.paddle_size[1]>=self.ball_pos[1]+self.ball_size[1] and self.left_paddle_pos[1]+self.left_follow_margin<=self.ball_pos[1]:\n",
        "                return\n",
        "            self.left_paddle_speed[1] = self.paddle_speed_mag*self.dist        \n",
        "            if self.left_paddle_pos[1]+self.paddle_size[1]+self.left_paddle_speed[1]-self.left_follow_margin>=self.box_size[1] or self.left_paddle_pos[1]+self.left_paddle_speed[1]<=0:\n",
        "                return\n",
        "            self.left_paddle_pos[1] += self.left_paddle_speed[1]\n",
        "        else:\n",
        "            self.dist = np.sign(self.box_size[1]//2-(self.left_paddle_pos[1]+self.paddle_size[1]//2))\n",
        "            self.left_paddle_speed[1] = self.paddle_speed_mag*self.dist \n",
        "            self.left_paddle_pos[1] += self.left_paddle_speed[1]\n",
        "            \n",
        "    def simulate_paddle_right(self):\n",
        "        self.dist = np.sign(self.ball_pos[1]+self.ball_size[1]//2-(self.right_paddle_pos[1]+self.paddle_size[1]//2))\n",
        "        if self.right_paddle_pos[1]+self.paddle_size[1]>=self.ball_pos[1]+self.ball_size[1] and self.right_paddle_pos[1]+self.right_follow_margin<=self.ball_pos[1]:\n",
        "            return\n",
        "        self.right_paddle_speed[1] = self.paddle_speed_mag*self.dist        \n",
        "        if self.right_paddle_pos[1]+self.paddle_size[1]+self.right_paddle_speed[1]-self.right_follow_margin>=self.box_size[1] or self.right_paddle_pos[1]+self.right_paddle_speed[1]<=0:\n",
        "            return\n",
        "        self.right_paddle_pos[1] += self.right_paddle_speed[1]\n",
        "    def draw_board(self):\n",
        "        self.board = np.zeros(self.box_size, dtype=np.uint8)\n",
        "        self.board[max(0,int(self.ball_pos[0])):max(0,int(self.ball_pos[0]))+self.ball_size[0],max(0,int(self.ball_pos[1])):max(0,int(self.ball_pos[1]))+self.ball_size[1]] = 255\n",
        "        self.board[int(self.left_paddle_pos[0]):int(self.left_paddle_pos[0])+self.paddle_size[0],int(self.left_paddle_pos[1]):int(self.left_paddle_pos[1])+self.paddle_size[1]] = 255\n",
        "        self.board[int(self.right_paddle_pos[0]):int(self.right_paddle_pos[0])+self.paddle_size[0],int(self.right_paddle_pos[1]):int(self.right_paddle_pos[1])+self.paddle_size[1]] = 255\n",
        "#         self.board = cv2.putText(self.board.copy(), str(self.collision),(64,64),cv2.FONT_HERSHEY_SIMPLEX,0.3,255, 1, cv2.LINE_AA)\n",
        "#         cv2.imshow('board',self.board)\n",
        "#         k = cv2.waitKey(1)\n",
        "#         if ord('q')==k:\n",
        "#             self.gameOver = True\n",
        "#         cv2.destroyAllWindows()"
      ]
    },
    {
      "cell_type": "markdown",
      "source": [
        "## Play and record games"
      ],
      "metadata": {
        "id": "6NIxIfOgLD2i"
      }
    },
    {
      "cell_type": "code",
      "source": [
        "import cv2\n",
        "import numpy as np\n",
        "\n",
        "# game.draw_board()\n",
        "n_frames = 1000\n",
        "n_games = 0\n",
        "games_won = 0\n",
        "games = []\n",
        "while games_won<50:\n",
        "    n_games+=1\n",
        "    game = Pong(False)\n",
        "    game.draw_board()\n",
        "    recorder = GameRecorder(game)\n",
        "    recorder.save_states(game)\n",
        "    for frame_index in range(n_frames):\n",
        "        game.simulate_ball()\n",
        "        game.simulate_paddle_left()\n",
        "        game.simulate_paddle_right()\n",
        "        game.draw_board()\n",
        "        recorder.save_states(game)\n",
        "        if game.gameOver:break\n",
        "    if game.gameOver:games_won +=1\n",
        "    games.append(recorder)\n",
        "print(f'game: {games_won}/{n_games}')\n",
        "cv2.destroyAllWindows()"
      ],
      "metadata": {
        "colab": {
          "base_uri": "https://localhost:8080/"
        },
        "id": "Ax_jljs9qvMJ",
        "outputId": "f8bb2fb7-c94a-48da-bc18-6768c99407e8"
      },
      "execution_count": 3,
      "outputs": [
        {
          "output_type": "stream",
          "name": "stdout",
          "text": [
            "game: 50/101\n"
          ]
        }
      ]
    },
    {
      "cell_type": "markdown",
      "source": [
        "# Ball Position Model"
      ],
      "metadata": {
        "id": "8CH6f1jjLRlU"
      }
    },
    {
      "cell_type": "markdown",
      "source": [
        "## Model 1: Conv2D(relu)->linear(mse)"
      ],
      "metadata": {
        "id": "JNoEm3UFLgo2"
      }
    },
    {
      "cell_type": "code",
      "source": [
        "n_conv_units = 4\n",
        "n_sensors = 1\n",
        "nOutputs = 2\n",
        "image_height,image_width = games[0].frames[0].shape\n",
        "ball_position_model = Sequential()\n",
        "ball_position_model.add(Conv2D(filters = n_conv_units, \n",
        "                kernel_size = (5, 5),  #these are the spatial filter kernels\n",
        "                activation = 'relu',\n",
        "                #input_shape = (batch_size, predict_length, image_height, image_width, n_sensors*n_time_images),\n",
        "                input_shape = (image_height, image_width,1),  #use when predict_length=1, batch_size=1\n",
        "                padding = 'valid'))\n",
        "ball_position_model.add(Flatten())  #so that the linear layer produces a single set of outputs\n",
        "ball_position_model.add(Dense(nOutputs, activation='linear'))  #last layer will scale the output back up because average will be small\n",
        "ball_position_model.compile(optimizer='adam', loss='mse')\n",
        "ball_position_model.summary()"
      ],
      "metadata": {
        "colab": {
          "base_uri": "https://localhost:8080/"
        },
        "id": "fmqKEZgVvQj4",
        "outputId": "4c15af7a-f456-4a53-d401-7d2a526751ea"
      },
      "execution_count": 244,
      "outputs": [
        {
          "output_type": "stream",
          "name": "stdout",
          "text": [
            "Model: \"sequential_27\"\n",
            "_________________________________________________________________\n",
            " Layer (type)                Output Shape              Param #   \n",
            "=================================================================\n",
            " conv2d_6 (Conv2D)           (None, 124, 188, 4)       104       \n",
            "                                                                 \n",
            " flatten_6 (Flatten)         (None, 93248)             0         \n",
            "                                                                 \n",
            " dense_40 (Dense)            (None, 2)                 186498    \n",
            "                                                                 \n",
            "=================================================================\n",
            "Total params: 186,602\n",
            "Trainable params: 186,602\n",
            "Non-trainable params: 0\n",
            "_________________________________________________________________\n"
          ]
        }
      ]
    },
    {
      "cell_type": "code",
      "source": [
        "filepath=\"weights.ball_pos_1.hdf5\"\n",
        "checkpoint = ModelCheckpoint(filepath, monitor='loss', verbose=0, save_best_only=True, mode='min')\n",
        "ball_position_model.fit(x=np.array([frame for game in games for frame in game.frames]),y=np.array([pos for game in games for pos in game.ball_pos]), \n",
        "          epochs=25,\n",
        "          callbacks=[early_stop,checkpoint],\n",
        "          shuffle=True)\n",
        "losses = pd.DataFrame(ball_position_model.history.history)\n",
        "losses.plot()"
      ],
      "metadata": {
        "colab": {
          "base_uri": "https://localhost:8080/",
          "height": 1000
        },
        "id": "uz0kQxIEmkU8",
        "outputId": "ffb2a212-99d3-4b84-8d26-8f84acaf0ec2"
      },
      "execution_count": 17,
      "outputs": [
        {
          "output_type": "stream",
          "name": "stdout",
          "text": [
            "Epoch 1/25\n",
            "2104/2104 [==============================] - 276s 131ms/step - loss: 72.9661\n",
            "Epoch 2/25\n",
            "2104/2104 [==============================] - 286s 136ms/step - loss: 23.2684\n",
            "Epoch 3/25\n",
            "2104/2104 [==============================] - 284s 135ms/step - loss: 17.5706\n",
            "Epoch 4/25\n",
            "2104/2104 [==============================] - 285s 135ms/step - loss: 14.7723\n",
            "Epoch 5/25\n",
            "2104/2104 [==============================] - 288s 137ms/step - loss: 13.0560\n",
            "Epoch 6/25\n",
            "2104/2104 [==============================] - 286s 136ms/step - loss: 11.5225\n",
            "Epoch 7/25\n",
            "2104/2104 [==============================] - 284s 135ms/step - loss: 10.0848\n",
            "Epoch 8/25\n",
            "2104/2104 [==============================] - 287s 136ms/step - loss: 9.0544\n",
            "Epoch 9/25\n",
            "2104/2104 [==============================] - 285s 135ms/step - loss: 8.1837\n",
            "Epoch 10/25\n",
            "2104/2104 [==============================] - 284s 135ms/step - loss: 8.0191\n",
            "Epoch 11/25\n",
            "2104/2104 [==============================] - 288s 137ms/step - loss: 7.5076\n",
            "Epoch 12/25\n",
            "2104/2104 [==============================] - 291s 138ms/step - loss: 6.5791\n",
            "Epoch 13/25\n",
            "2104/2104 [==============================] - 286s 136ms/step - loss: 6.5309\n",
            "Epoch 14/25\n",
            "2104/2104 [==============================] - 292s 139ms/step - loss: 6.0907\n",
            "Epoch 15/25\n",
            "2104/2104 [==============================] - 288s 137ms/step - loss: 5.8515\n",
            "Epoch 16/25\n",
            "2104/2104 [==============================] - 287s 136ms/step - loss: 5.8069\n",
            "Epoch 17/25\n",
            "2104/2104 [==============================] - 286s 136ms/step - loss: 5.2932\n",
            "Epoch 18/25\n",
            "2104/2104 [==============================] - 290s 138ms/step - loss: 4.9278\n",
            "Epoch 19/25\n",
            "2104/2104 [==============================] - 286s 136ms/step - loss: 5.2006\n",
            "Epoch 20/25\n",
            "2104/2104 [==============================] - 286s 136ms/step - loss: 4.9989\n"
          ]
        },
        {
          "output_type": "execute_result",
          "data": {
            "text/plain": [
              "<AxesSubplot:>"
            ]
          },
          "metadata": {},
          "execution_count": 17
        },
        {
          "output_type": "display_data",
          "data": {
            "text/plain": [
              "<Figure size 432x288 with 1 Axes>"
            ],
            "image/png": "[encoded data removed]"
          },
          "metadata": {
            "needs_background": "light"
          }
        }
      ]
    },
    {
      "cell_type": "code",
      "source": [
        "ball_position_model.load_weights('weights.ball_pos_1.hdf5')\n",
        "game_index = 10\n",
        "frame_index = 200\n",
        "print(np.array([games[game_index].frames[frame_index]]).shape)\n",
        "pred = ball_position_model.predict(np.array([games[game_index].frames[frame_index]]))\n",
        "print(np.round(pred))\n",
        "print(np.array([pos/255.0 for game in games[10:11] for pos in game.ball_pos[200:201]]))\n",
        "print(np.round(games[game_index].ball_pos[frame_index]))\n",
        "cv2.imshow('sd',games[game_index].frames[frame_index])\n",
        "cv2.waitKey(0)\n",
        "cv2.destroyAllWindows()"
      ],
      "metadata": {
        "colab": {
          "base_uri": "https://localhost:8080/"
        },
        "id": "QAh9rVGSz9aS",
        "outputId": "488b899e-6b34-4ab2-c57b-e2041e5ffa5a"
      },
      "execution_count": 246,
      "outputs": [
        {
          "output_type": "stream",
          "name": "stdout",
          "text": [
            "(1, 128, 192)\n",
            "1/1 [==============================] - 0s 27ms/step\n",
            "[[102.  34.]]\n",
            "[[0.39568627 0.12988235]]\n",
            "[101.  33.]\n"
          ]
        }
      ]
    },
    {
      "cell_type": "markdown",
      "source": [
        "##Model 2: Conv -> Dense"
      ],
      "metadata": {
        "id": "xhrl06Lavjkr"
      }
    },
    {
      "cell_type": "code",
      "source": [
        "n_conv_units = 10\n",
        "n_sensors = 1\n",
        "nOutputs = 2\n",
        "image_height,image_width = games[0].frames[0].shape\n",
        "ball_position_model = Sequential()\n",
        "ball_position_model.add(Conv2D(filters = n_conv_units, \n",
        "                kernel_size = (3, 3),  #these are the spatial filter kernels\n",
        "                activation = 'relu',\n",
        "                #input_shape = (batch_size, predict_length, image_height, image_width, n_sensors*n_time_images),\n",
        "                input_shape = (image_height, image_width,1),  #use when predict_length=1, batch_size=1\n",
        "                padding = 'same'))\n",
        "ball_position_model.add(Flatten())  #so that the linear layer produces a single set of outputs\n",
        "ball_position_model.add(Dense(nOutputs, activation='linear'))  #last layer will scale the output back up because average will be small\n",
        "ball_position_model.compile(optimizer='adam', loss='mse')\n",
        "ball_position_model.summary()"
      ],
      "metadata": {
        "colab": {
          "base_uri": "https://localhost:8080/"
        },
        "id": "llFRG6Syvnzn",
        "outputId": "9274b99b-6079-4198-f609-0789705c5c33"
      },
      "execution_count": 247,
      "outputs": [
        {
          "output_type": "stream",
          "name": "stdout",
          "text": [
            "Model: \"sequential_28\"\n",
            "_________________________________________________________________\n",
            " Layer (type)                Output Shape              Param #   \n",
            "=================================================================\n",
            " conv2d_7 (Conv2D)           (None, 128, 192, 10)      100       \n",
            "                                                                 \n",
            " flatten_7 (Flatten)         (None, 245760)            0         \n",
            "                                                                 \n",
            " dense_41 (Dense)            (None, 2)                 491522    \n",
            "                                                                 \n",
            "=================================================================\n",
            "Total params: 491,622\n",
            "Trainable params: 491,622\n",
            "Non-trainable params: 0\n",
            "_________________________________________________________________\n"
          ]
        }
      ]
    },
    {
      "cell_type": "code",
      "source": [
        "# filepath=\"weights.best.hdf5\"\n",
        "# checkpoint = ModelCheckpoint(filepath, monitor='loss', verbose=0, save_best_only=True, mode='min')\n",
        "# ball_position_model.fit(x=np.array([frame for game in games for frame in game.frames]),y=np.array([pos for game in games for pos in game.ball_pos]), \n",
        "#           epochs=25,\n",
        "#           callbacks=[early_stop,checkpoint],\n",
        "#           shuffle=True)\n",
        "# losses = pd.DataFrame(ball_position_model.history.history)\n",
        "# losses.plot()"
      ],
      "metadata": {
        "id": "ARa1AaIQv1Sb"
      },
      "execution_count": 25,
      "outputs": []
    },
    {
      "cell_type": "code",
      "source": [
        "ball_position_model.load_weights('weights.best.hdf5')\n",
        "game_index = 10\n",
        "frame_index = 200\n",
        "print(np.array([games[game_index].frames[frame_index]]).shape)\n",
        "pred = ball_position_model.predict(np.array([games[game_index].frames[frame_index]]))\n",
        "print(np.round(pred))\n",
        "print(np.array([pos/255.0 for game in games[10:11] for pos in game.ball_pos[200:201]]))\n",
        "print(np.round(games[game_index].ball_pos[frame_index]))\n",
        "cv2.imshow('frame',games[game_index].frames[frame_index])\n",
        "cv2.waitKey(0)\n",
        "cv2.destroyAllWindows()"
      ],
      "metadata": {
        "colab": {
          "base_uri": "https://localhost:8080/"
        },
        "id": "KfbYLTk7v6pf",
        "outputId": "4ffb2875-af6b-4c83-e077-ca8f93a6080b"
      },
      "execution_count": 248,
      "outputs": [
        {
          "output_type": "stream",
          "name": "stdout",
          "text": [
            "(1, 128, 192)\n",
            "1/1 [==============================] - 0s 86ms/step\n",
            "[[101.  35.]]\n",
            "[[0.39568627 0.12988235]]\n",
            "[101.  33.]\n"
          ]
        }
      ]
    },
    {
      "cell_type": "markdown",
      "source": [
        "##Demonstrate output for a game"
      ],
      "metadata": {
        "id": "UPWJlFO8wH8m"
      }
    },
    {
      "cell_type": "code",
      "source": [
        "game_chosen = games[0]\n",
        "predicted_frames = []\n",
        "video = cv2.VideoWriter('predicted_video.mp4', cv2.VideoWriter_fourcc(*'MP4V'), 20.0, (image_width,image_height))\n",
        "for idx,image in enumerate(game_chosen.frames):\n",
        "  predicted = ball_position_model.predict(np.array([image]))\n",
        "  predicted = tuple([int(elem) for elem in predicted.flatten()])\n",
        "  image = cv2.cvtColor((image.copy()).astype('uint8'),cv2.COLOR_GRAY2BGR)\n",
        "  image = cv2.rectangle(image,(predicted[1],predicted[0]),(predicted[1]+3,predicted[0]+3),(0,255,0),-1)\n",
        "  video.write(image)\n",
        "print(len(game_chosen.frames))\n",
        "cv2.destroyAllWindows()\n",
        "video.release()\n"
      ],
      "metadata": {
        "id": "vtTut7KuwHEh"
      },
      "execution_count": null,
      "outputs": []
    },
    {
      "cell_type": "markdown",
      "source": [
        "# Left Paddle"
      ],
      "metadata": {
        "id": "HbV5lXgRvoKJ"
      }
    },
    {
      "cell_type": "markdown",
      "source": [
        "## Model 1: One-hot Encoding, Conv2D, MaxPooling2D, Categorical Crossentropy"
      ],
      "metadata": {
        "id": "1q28P75_3zvU"
      }
    },
    {
      "cell_type": "markdown",
      "source": [
        "### Create Dataset\n"
      ],
      "metadata": {
        "id": "oX9Zg2hr4RKG"
      }
    },
    {
      "cell_type": "code",
      "source": [
        "filepath=\"weights.left_paddle_model_onehot.hdf5\"\n",
        "checkpoint = ModelCheckpoint(filepath, monitor='loss', verbose=0, save_best_only=True, mode='min')\n",
        "all_positions = list(range(2,173,2))\n",
        "x_left = []\n",
        "y_left = []\n",
        "for game in games:\n",
        "  for idx,left_pos in enumerate(game.left_pos):\n",
        "    x_left.append(np.expand_dims(game.frames[idx],axis=2))\n",
        "    one_hot = np.zeros((len(all_positions),1))\n",
        "    one_hot[int(left_pos//2 - 1)] = 1\n",
        "    y_left.append(one_hot)\n",
        "p = np.random.permutation(len(x_left))\n",
        "x_left = np.array(x_left)[p]\n",
        "y_left = np.array(y_left)[p]"
      ],
      "metadata": {
        "id": "ZOu5KQ-x4Qot"
      },
      "execution_count": 62,
      "outputs": []
    },
    {
      "cell_type": "code",
      "source": [
        "print(x_left.shape,y_left.shape)"
      ],
      "metadata": {
        "colab": {
          "base_uri": "https://localhost:8080/"
        },
        "id": "vo4jfEdQ4rH0",
        "outputId": "e6061deb-7024-457d-a112-17583eedcefe"
      },
      "execution_count": 63,
      "outputs": [
        {
          "output_type": "stream",
          "name": "stdout",
          "text": [
            "(67306, 128, 192, 1) (67306, 86, 1)\n"
          ]
        }
      ]
    },
    {
      "cell_type": "markdown",
      "source": [
        "### Build Model"
      ],
      "metadata": {
        "id": "E_45z6B-4AWq"
      }
    },
    {
      "cell_type": "code",
      "source": [
        "nOutputs = 1\n",
        "left_position_model = Sequential()\n",
        "left_position_model.add(Conv2D(filters = 10, \n",
        "                kernel_size = (5, 5),\n",
        "                activation = 'relu',\n",
        "                input_shape = (image_height, image_width,1),\n",
        "                padding = 'valid'))\n",
        "left_position_model.add(MaxPooling2D((image_height-5,1)))\n",
        "left_position_model.add(Flatten())\n",
        "left_position_model.add(Dense(86, activation='softmax'))\n",
        "left_position_model.compile(optimizer='adam', loss='categorical_crossentropy')\n",
        "left_position_model.summary()"
      ],
      "metadata": {
        "colab": {
          "base_uri": "https://localhost:8080/"
        },
        "id": "l73xEwzpiW73",
        "outputId": "acc4c4c6-13ea-4ea9-e5ee-0c9c6381d9b0"
      },
      "execution_count": 64,
      "outputs": [
        {
          "output_type": "stream",
          "name": "stdout",
          "text": [
            "Model: \"sequential_4\"\n",
            "_________________________________________________________________\n",
            " Layer (type)                Output Shape              Param #   \n",
            "=================================================================\n",
            " conv2d_4 (Conv2D)           (None, 124, 188, 10)      260       \n",
            "                                                                 \n",
            " max_pooling2d_1 (MaxPooling  (None, 1, 188, 10)       0         \n",
            " 2D)                                                             \n",
            "                                                                 \n",
            " flatten_4 (Flatten)         (None, 1880)              0         \n",
            "                                                                 \n",
            " dense_4 (Dense)             (None, 86)                161766    \n",
            "                                                                 \n",
            "=================================================================\n",
            "Total params: 162,026\n",
            "Trainable params: 162,026\n",
            "Non-trainable params: 0\n",
            "_________________________________________________________________\n"
          ]
        }
      ]
    },
    {
      "cell_type": "markdown",
      "source": [
        "### Training"
      ],
      "metadata": {
        "id": "1uXjAE5T40DS"
      }
    },
    {
      "cell_type": "code",
      "source": [
        "# left_position_model.load_weights('weights.left_paddle_model_onehot.hdf5')\n",
        "left_position_model.fit(x=x_left,y=y_left, \n",
        "          epochs=5,\n",
        "          callbacks=[early_stop,checkpoint])\n",
        "losses = pd.DataFrame(left_position_model.history.history)\n",
        "losses.plot()"
      ],
      "metadata": {
        "colab": {
          "base_uri": "https://localhost:8080/",
          "height": 472
        },
        "id": "7jLYJ3um4yVn",
        "outputId": "3cadc20d-1ac0-4298-db8f-72fc60c8b040"
      },
      "execution_count": 65,
      "outputs": [
        {
          "output_type": "stream",
          "name": "stdout",
          "text": [
            "Epoch 1/5\n",
            "2104/2104 [==============================] - 397s 188ms/step - loss: 0.6141\n",
            "Epoch 2/5\n",
            "2104/2104 [==============================] - 391s 186ms/step - loss: 0.0024\n",
            "Epoch 3/5\n",
            "2104/2104 [==============================] - 403s 191ms/step - loss: 0.0055\n",
            "Epoch 4/5\n",
            "2104/2104 [==============================] - 384s 183ms/step - loss: 1.3727e-06\n",
            "Epoch 5/5\n",
            "2104/2104 [==============================] - 404s 192ms/step - loss: 2.4723e-08\n"
          ]
        },
        {
          "output_type": "execute_result",
          "data": {
            "text/plain": [
              "<AxesSubplot:>"
            ]
          },
          "metadata": {},
          "execution_count": 65
        },
        {
          "output_type": "display_data",
          "data": {
            "text/plain": [
              "<Figure size 432x288 with 1 Axes>"
            ],
            "image/png": "[encoded data removed]"
          },
          "metadata": {
            "needs_background": "light"
          }
        }
      ]
    },
    {
      "cell_type": "markdown",
      "source": [
        "### Visualizing the layers!"
      ],
      "metadata": {
        "id": "_xl7tZDqAptH"
      }
    },
    {
      "cell_type": "code",
      "source": [
        "successive_outputs = [layer.output for layer in left_position_model.layers]\n",
        "visualization_model = Model(inputs = left_position_model.input, outputs = successive_outputs)\n",
        "\n",
        "#Load the input image\n",
        "x = np.array([x_left[0]])\n",
        "\n",
        "successive_feature_maps = visualization_model.predict(x)\n",
        "\n",
        "# Retrieve are the names of the layers, so can have them as part of our plot\n",
        "layer_names = [layer.name for layer in left_position_model.layers]\n",
        "\n",
        "for layer_name, feature_map in zip(layer_names, successive_feature_maps):\n",
        "  # Plot Feature maps for the conv / maxpool layers, not the fully-connected layers\n",
        "  if 'max_pooling2d' in layer_name:\n",
        "    print('Max Pooling Output')\n",
        "    plt.figure()\n",
        "    plt.plot(feature_map[0,0,:,0])\n",
        "  elif 'conv2d' in layer_name:\n",
        "    print('Conv2D Output')\n",
        "    plt.figure()\n",
        "    plt.imshow(feature_map[0,:,:,0],cmap='gray' )\n",
        "  elif 'dense' in layer_name:\n",
        "    print('Dense Output')\n",
        "    plt.figure()\n",
        "    plt.plot(feature_map[0,:])\n",
        "  print('True Position',np.argmax(y_left[0]),'Predicted Position',np.argmax(successive_feature_maps[-1]))"
      ],
      "metadata": {
        "colab": {
          "base_uri": "https://localhost:8080/",
          "height": 915
        },
        "id": "zFxffpEvAb_c",
        "outputId": "8f417a8d-cac6-4ce2-e099-93088e4e338b"
      },
      "execution_count": 75,
      "outputs": [
        {
          "output_type": "stream",
          "name": "stdout",
          "text": [
            "1/1 [==============================] - 0s 55ms/step\n",
            "Conv2D Output\n",
            "True Position 42 Predicted Position 42\n",
            "Max Pooling Output\n",
            "True Position 42 Predicted Position 42\n",
            "True Position 42 Predicted Position 42\n",
            "Dense Output\n",
            "True Position 42 Predicted Position 42\n"
          ]
        },
        {
          "output_type": "display_data",
          "data": {
            "text/plain": [
              "<Figure size 432x288 with 1 Axes>"
            ],
            "image/png": "[encoded data removed]"
          },
          "metadata": {
            "needs_background": "light"
          }
        },
        {
          "output_type": "display_data",
          "data": {
            "text/plain": [
              "<Figure size 432x288 with 1 Axes>"
            ],
            "image/png": "[encoded data removed]"
          },
          "metadata": {
            "needs_background": "light"
          }
        },
        {
          "output_type": "display_data",
          "data": {
            "text/plain": [
              "<Figure size 432x288 with 1 Axes>"
            ],
            "image/png": "[encoded data removed]"
          },
          "metadata": {
            "needs_background": "light"
          }
        }
      ]
    },
    {
      "cell_type": "markdown",
      "source": [
        "### Visualizing the filter\n",
        "Since we forced the model to learn only one convolution filter, it has to create a filter that matches really well with the input image to extract a paddle shape. We can sort of see this in the image below, where the image attempts to find a stripe corresponding to the paddle. \n",
        "\n",
        "Since the right and left paddles are the same shape, what differentiates them (if doing convolution only), is their proximity to the edges. This is why I made the padding 'valid', so that no additional zeros are added, allowing for a filter that works for the left paddle, but not right one.\n",
        "\n",
        "I believe that the bottom and right pixels are almost the same weight, (which probably is removing that part of the image), making the filter asymmetric and creating a filter for the left paddle only instead of the right paddle. This could also be analyzed as trying to filter out the ball (3x3) shape. \n",
        "\n",
        "The relu activation function lets the neural network either accept th convolution sum or reject it (by sliding the relu using the bias).\n",
        "\n",
        "I added in a MaxPooling2D layer to collapse the image onto the dimension we're looking for, giving the maximum value across it. For example, if the filter was a (4,2) where each row is [1,1,0,0], then we'll get a maximum value across the entire paddle length. This will show up as a rect after max pooling. Then, all we need is to get the start (rising edge), and that is the left paddle coordinate.\n",
        "\n",
        " However, since during the game, the paddle y positions can overlap, this would lead to windows where the left paddle coordinate is lost in the middle. This is why a more unique filter should be applied to detect only the left paddle, where the left paddle coordinate shows as a spike."
      ],
      "metadata": {
        "id": "h70426kKdXyD"
      }
    },
    {
      "cell_type": "code",
      "source": [
        "for layer in left_position_model.layers:\n",
        "    if 'conv' in layer.name:\n",
        "        filters, bias= layer.get_weights()\n",
        "        print(layer.name, filters.shape)\n",
        "        \n",
        "        #normalize filter values between  0 and 1 for visualization\n",
        "        f_min, f_max = filters.min(), filters.max()\n",
        "        filters = (filters - f_min) / (f_max - f_min)  \n",
        "        # print(filters.shape[3])\n",
        "        filter_cnt=1\n",
        "        \n",
        "        #plotting all the filters\n",
        "        for i in range(filters.shape[3]):\n",
        "            #get the filters\n",
        "            filt=filters[:,:,:, i]\n",
        "            #plotting each of the channel, color image RGB channels\n",
        "            plt.figure()\n",
        "            plt.imshow(filt[:,:,0],cmap='gray')\n",
        "            # ax.set_xticks([])\n",
        "            # ax.set_yticks([])\n",
        "            # plt.imshow()\n",
        "            filter_cnt+=1\n",
        "        plt.show()"
      ],
      "metadata": {
        "colab": {
          "base_uri": "https://localhost:8080/",
          "height": 284
        },
        "id": "Kbid8RVIdaXy",
        "outputId": "0a02d9c8-7b3b-44c5-c580-b19287134222"
      },
      "execution_count": 95,
      "outputs": [
        {
          "output_type": "stream",
          "name": "stdout",
          "text": [
            "conv2d_14 (5, 5, 1, 1)\n"
          ]
        },
        {
          "output_type": "display_data",
          "data": {
            "text/plain": [
              "<Figure size 432x288 with 1 Axes>"
            ],
            "image/png": "[encoded data removed]"
          },
          "metadata": {
            "needs_background": "light"
          }
        }
      ]
    },
    {
      "cell_type": "markdown",
      "source": [
        "## Model2: Conv2D + MSE"
      ],
      "metadata": {
        "id": "l7Ag9o5LCG3f"
      }
    },
    {
      "cell_type": "markdown",
      "source": [
        "### Create model\n",
        "One 5x5 filter, then directly dense to 1 unit."
      ],
      "metadata": {
        "id": "ZzkHFFQ_ijj5"
      }
    },
    {
      "cell_type": "code",
      "source": [
        "nOutputs = 1\n",
        "left_position_model = Sequential()\n",
        "left_position_model.add(Conv2D(filters = 1, \n",
        "                kernel_size = (5, 5),\n",
        "                activation = 'relu',\n",
        "                input_shape = (image_height, image_width,1),\n",
        "                padding = 'valid'))\n",
        "left_position_model.add(Flatten())\n",
        "left_position_model.add(Dense(1))\n",
        "left_position_model.compile(optimizer='adam', loss='mse')\n",
        "left_position_model.summary()"
      ],
      "metadata": {
        "colab": {
          "base_uri": "https://localhost:8080/"
        },
        "id": "1tR_n-ZhCMRa",
        "outputId": "0999054c-7460-4023-b568-23c4c75f3bed"
      },
      "execution_count": 232,
      "outputs": [
        {
          "output_type": "stream",
          "name": "stdout",
          "text": [
            "Model: \"sequential_24\"\n",
            "_________________________________________________________________\n",
            " Layer (type)                Output Shape              Param #   \n",
            "=================================================================\n",
            " conv2d_3 (Conv2D)           (None, 124, 188, 1)       26        \n",
            "                                                                 \n",
            " flatten_3 (Flatten)         (None, 23312)             0         \n",
            "                                                                 \n",
            " dense_37 (Dense)            (None, 1)                 23313     \n",
            "                                                                 \n",
            "=================================================================\n",
            "Total params: 23,339\n",
            "Trainable params: 23,339\n",
            "Non-trainable params: 0\n",
            "_________________________________________________________________\n"
          ]
        }
      ]
    },
    {
      "cell_type": "markdown",
      "source": [
        "### Training"
      ],
      "metadata": {
        "id": "PFbVmGM8irr_"
      }
    },
    {
      "cell_type": "code",
      "source": [
        "left_position_model.load_weights('weights.left_paddle_model_mse.hdf5')\n",
        "# filepath=\"weights.left_paddle_model_mse.hdf5\"\n",
        "# checkpoint = ModelCheckpoint(filepath, monitor='loss', verbose=0, save_best_only=True, mode='min')\n",
        "# left_position_model.fit(x=np.array([frame for game in games for frame in game.frames]),y=np.array([pos for game in games for pos in game.left_pos]), \n",
        "#           epochs=25,\n",
        "#           callbacks=[early_stop,checkpoint],\n",
        "#           shuffle=True)\n",
        "# losses = pd.DataFrame(left_position_model.history.history)\n",
        "# losses.plot()"
      ],
      "metadata": {
        "id": "TaYuQaoSCSaf"
      },
      "execution_count": 233,
      "outputs": []
    },
    {
      "cell_type": "markdown",
      "source": [
        "###Visualizing layer outputs!"
      ],
      "metadata": {
        "id": "z6tY6PDNgCj6"
      }
    },
    {
      "cell_type": "code",
      "source": [
        "successive_outputs = [layer.output for layer in left_position_model.layers]\n",
        "visualization_model = Model(inputs = left_position_model.input, outputs = successive_outputs)\n",
        "\n",
        "n_games = 3\n",
        "n_images = 3\n",
        "#Load the input image\n",
        "for _ in range(n_games):\n",
        "  game_index = np.random.randint(len(games))\n",
        "  for _ in range(n_images):\n",
        "    frame_index = np.random.randint(len(games[game_index].frames))\n",
        "    x = np.array([games[game_index].frames[frame_index]])\n",
        "\n",
        "    successive_feature_maps = visualization_model.predict(x)\n",
        "\n",
        "    # Retrieve are the names of the layers, so can have them as part of our plot\n",
        "    layer_names = [layer.name for layer in left_position_model.layers]\n",
        "    for layer_name, feature_map in zip(layer_names, successive_feature_maps):\n",
        "      if 'conv2d' in layer_name:\n",
        "        plt.figure()\n",
        "        plt.imshow(feature_map[0,:,:,0],cmap='gray' )\n",
        "\n",
        "    print('True Position',games[game_index].left_pos[frame_index],', Predicted Position',successive_feature_maps[-1][0][0])"
      ],
      "metadata": {
        "colab": {
          "base_uri": "https://localhost:8080/",
          "height": 1000
        },
        "id": "_abG6PS2fvRM",
        "outputId": "73192c9a-525d-4a57-afdb-72f81ff7d954"
      },
      "execution_count": 235,
      "outputs": [
        {
          "output_type": "stream",
          "name": "stdout",
          "text": [
            "1/1 [==============================] - 0s 126ms/step\n",
            "True Position 86.0 , Predicted Position 86.55534\n",
            "1/1 [==============================] - 0s 35ms/step\n",
            "True Position 122.0 , Predicted Position 122.194916\n",
            "1/1 [==============================] - 0s 26ms/step\n",
            "True Position 122.0 , Predicted Position 122.84125\n",
            "1/1 [==============================] - 0s 23ms/step\n",
            "True Position 20.0 , Predicted Position 19.681131\n",
            "1/1 [==============================] - 0s 24ms/step\n",
            "True Position 86 , Predicted Position 86.336815\n",
            "1/1 [==============================] - 0s 23ms/step\n",
            "True Position 120.0 , Predicted Position 120.15023\n",
            "1/1 [==============================] - 0s 24ms/step\n",
            "True Position 100.0 , Predicted Position 100.44467\n",
            "1/1 [==============================] - 0s 23ms/step\n",
            "True Position 122.0 , Predicted Position 121.57606\n",
            "1/1 [==============================] - 0s 25ms/step\n",
            "True Position 98.0 , Predicted Position 98.459236\n"
          ]
        },
        {
          "output_type": "display_data",
          "data": {
            "text/plain": [
              "<Figure size 432x288 with 1 Axes>"
            ],
            "image/png": "[encoded data removed]"
          },
          "metadata": {
            "needs_background": "light"
          }
        },
        {
          "output_type": "display_data",
          "data": {
            "text/plain": [
              "<Figure size 432x288 with 1 Axes>"
            ],
            "image/png": "[encoded data removed]"
          },
          "metadata": {
            "needs_background": "light"
          }
        },
        {
          "output_type": "display_data",
          "data": {
            "text/plain": [
              "<Figure size 432x288 with 1 Axes>"
            ],
            "image/png": "[encoded data removed]"
          },
          "metadata": {
            "needs_background": "light"
          }
        },
        {
          "output_type": "display_data",
          "data": {
            "text/plain": [
              "<Figure size 432x288 with 1 Axes>"
            ],
            "image/png": "[encoded data removed]"
          },
          "metadata": {
            "needs_background": "light"
          }
        },
        {
          "output_type": "display_data",
          "data": {
            "text/plain": [
              "<Figure size 432x288 with 1 Axes>"
            ],
            "image/png": "[encoded data removed]"
          },
          "metadata": {
            "needs_background": "light"
          }
        },
        {
          "output_type": "display_data",
          "data": {
            "text/plain": [
              "<Figure size 432x288 with 1 Axes>"
            ],
            "image/png": "[encoded data removed]"
          },
          "metadata": {
            "needs_background": "light"
          }
        },
        {
          "output_type": "display_data",
          "data": {
            "text/plain": [
              "<Figure size 432x288 with 1 Axes>"
            ],
            "image/png": "[encoded data removed]"
          },
          "metadata": {
            "needs_background": "light"
          }
        },
        {
          "output_type": "display_data",
          "data": {
            "text/plain": [
              "<Figure size 432x288 with 1 Axes>"
            ],
            "image/png": "[encoded data removed]"
          },
          "metadata": {
            "needs_background": "light"
          }
        },
        {
          "output_type": "display_data",
          "data": {
            "text/plain": [
              "<Figure size 432x288 with 1 Axes>"
            ],
            "image/png": "[encoded data removed]"
          },
          "metadata": {
            "needs_background": "light"
          }
        }
      ]
    },
    {
      "cell_type": "markdown",
      "source": [
        "###Visualiziing the filter"
      ],
      "metadata": {
        "id": "3cGEpXoafo1N"
      }
    },
    {
      "cell_type": "code",
      "source": [
        "for layer in left_position_model.layers:\n",
        "    if 'conv' in layer.name:\n",
        "        filters, bias= layer.get_weights()\n",
        "        print(layer.name, filters.shape)\n",
        "        \n",
        "        #normalize filter values between  0 and 1 for visualization\n",
        "        f_min, f_max = filters.min(), filters.max()\n",
        "        filters = (filters - f_min) / (f_max - f_min)  \n",
        "        # print(filters.shape[3])\n",
        "        filter_cnt=1\n",
        "        \n",
        "        #plotting all the filters\n",
        "        for i in range(filters.shape[3]):\n",
        "            #get the filters\n",
        "            filt=filters[:,:,:, i]\n",
        "            #plotting each of the channel, color image RGB channels\n",
        "            plt.figure()\n",
        "            plt.imshow(filt[:,:,0],cmap='gray')\n",
        "            # ax.set_xticks([])\n",
        "            # ax.set_yticks([])\n",
        "            # plt.imshow()\n",
        "            filter_cnt+=1\n",
        "        plt.show()"
      ],
      "metadata": {
        "colab": {
          "base_uri": "https://localhost:8080/",
          "height": 284
        },
        "id": "R9w_NBCaeykm",
        "outputId": "8cbfcf57-ba1c-4f04-ac2b-3e2574e0c5e8"
      },
      "execution_count": 112,
      "outputs": [
        {
          "output_type": "stream",
          "name": "stdout",
          "text": [
            "conv2d_14 (5, 5, 1, 1)\n"
          ]
        },
        {
          "output_type": "display_data",
          "data": {
            "text/plain": [
              "<Figure size 432x288 with 1 Axes>"
            ],
            "image/png": "[encoded data removed]"
          },
          "metadata": {
            "needs_background": "light"
          }
        }
      ]
    },
    {
      "cell_type": "markdown",
      "source": [
        "# Right Paddle\n",
        "The second model performed much better, though trained slower then the first model. We will use that."
      ],
      "metadata": {
        "id": "dvf4dhyTi-zE"
      }
    },
    {
      "cell_type": "markdown",
      "source": [
        "## Create model\n",
        "One 5x5 filter, then directly dense to 1 unit."
      ],
      "metadata": {
        "id": "GtSKQT0Wi-zF"
      }
    },
    {
      "cell_type": "code",
      "source": [
        "nOutputs = 1\n",
        "image_height,image_width = games[0].frames[0].shape\n",
        "right_position_model = Sequential()\n",
        "right_position_model.add(Conv2D(filters = 1, \n",
        "                kernel_size = (5, 5),\n",
        "                activation = 'relu',\n",
        "                input_shape = (image_height, image_width,1),\n",
        "                padding = 'valid'))\n",
        "right_position_model.add(Flatten())\n",
        "right_position_model.add(Dense(1))\n",
        "right_position_model.compile(optimizer='adam', loss='mse')\n",
        "right_position_model.summary()"
      ],
      "metadata": {
        "colab": {
          "base_uri": "https://localhost:8080/"
        },
        "outputId": "c3d10b32-5541-434f-ce24-7e7fbf7cc52a",
        "id": "bRN4EvWMi-zF"
      },
      "execution_count": 236,
      "outputs": [
        {
          "output_type": "stream",
          "name": "stdout",
          "text": [
            "Model: \"sequential_25\"\n",
            "_________________________________________________________________\n",
            " Layer (type)                Output Shape              Param #   \n",
            "=================================================================\n",
            " conv2d_4 (Conv2D)           (None, 124, 188, 1)       26        \n",
            "                                                                 \n",
            " flatten_4 (Flatten)         (None, 23312)             0         \n",
            "                                                                 \n",
            " dense_38 (Dense)            (None, 1)                 23313     \n",
            "                                                                 \n",
            "=================================================================\n",
            "Total params: 23,339\n",
            "Trainable params: 23,339\n",
            "Non-trainable params: 0\n",
            "_________________________________________________________________\n"
          ]
        }
      ]
    },
    {
      "cell_type": "markdown",
      "source": [
        "## Training"
      ],
      "metadata": {
        "id": "V4-1HeB-i-zF"
      }
    },
    {
      "cell_type": "code",
      "source": [
        "right_position_model.load_weights('weights.right_paddle_model_mse.hdf5')\n",
        "# filepath=\"weights.right_paddle_model_mse.hdf5\"\n",
        "# checkpoint = ModelCheckpoint(filepath, monitor='loss', verbose=0, save_best_only=True, mode='min')\n",
        "# right_position_model.fit(x=np.array([frame for game in games for frame in game.frames]),y=np.array([pos for game in games for pos in game.right_pos]), \n",
        "#           epochs=20,\n",
        "#           callbacks=[early_stop,checkpoint],\n",
        "#           shuffle=True)\n",
        "# losses = pd.DataFrame(right_position_model.history.history)\n",
        "# losses.plot()"
      ],
      "metadata": {
        "id": "7VslO3woi-zG"
      },
      "execution_count": 237,
      "outputs": []
    },
    {
      "cell_type": "markdown",
      "source": [
        "##Visualizing layer outputs!"
      ],
      "metadata": {
        "id": "KODiycGKi-zH"
      }
    },
    {
      "cell_type": "code",
      "source": [
        "successive_outputs = [layer.output for layer in right_position_model.layers]\n",
        "visualization_model = Model(inputs = right_position_model.input, outputs = successive_outputs)\n",
        "\n",
        "n_games = 3\n",
        "n_images = 3\n",
        "#Load the input image\n",
        "for _ in range(n_games):\n",
        "  game_index = np.random.randint(len(games))\n",
        "  for _ in range(n_images):\n",
        "    frame_index = np.random.randint(len(games[game_index].frames))\n",
        "    x = np.array([games[game_index].frames[frame_index]])\n",
        "\n",
        "    successive_feature_maps = visualization_model.predict(x)\n",
        "\n",
        "    # Retrieve are the names of the layers, so can have them as part of our plot\n",
        "    layer_names = [layer.name for layer in right_position_model.layers]\n",
        "    for layer_name, feature_map in zip(layer_names, successive_feature_maps):\n",
        "      if 'conv2d' in layer_name:\n",
        "        plt.figure()\n",
        "        plt.imshow(feature_map[0,:,:,0],cmap='gray' )\n",
        "\n",
        "    print('True Position',games[game_index].right_pos[frame_index],', Predicted Position',successive_feature_maps[-1][0][0])"
      ],
      "metadata": {
        "colab": {
          "base_uri": "https://localhost:8080/",
          "height": 1000
        },
        "outputId": "d9a5243f-5973-46df-9995-024e8bd568f5",
        "id": "9mUYqPwWi-zH"
      },
      "execution_count": 238,
      "outputs": [
        {
          "output_type": "stream",
          "name": "stdout",
          "text": [
            "1/1 [==============================] - 0s 80ms/step\n",
            "True Position 122.0 , Predicted Position 122.02553\n",
            "1/1 [==============================] - 0s 23ms/step\n",
            "True Position 128.0 , Predicted Position 128.60164\n",
            "1/1 [==============================] - 0s 24ms/step\n",
            "True Position 54.0 , Predicted Position 53.670403\n",
            "1/1 [==============================] - 0s 25ms/step\n",
            "True Position 80.0 , Predicted Position 80.73929\n",
            "1/1 [==============================] - 0s 31ms/step\n",
            "True Position 108.0 , Predicted Position 107.69644\n",
            "1/1 [==============================] - 0s 28ms/step\n",
            "True Position 136.0 , Predicted Position 135.65305\n",
            "1/1 [==============================] - 0s 20ms/step\n",
            "True Position 54.0 , Predicted Position 53.99037\n",
            "1/1 [==============================] - 0s 24ms/step\n",
            "True Position 32.0 , Predicted Position 32.08349\n",
            "1/1 [==============================] - 0s 36ms/step\n",
            "True Position 58.0 , Predicted Position 57.42079\n"
          ]
        },
        {
          "output_type": "display_data",
          "data": {
            "text/plain": [
              "<Figure size 432x288 with 1 Axes>"
            ],
            "image/png": "[encoded data removed]"
          },
          "metadata": {
            "needs_background": "light"
          }
        },
        {
          "output_type": "display_data",
          "data": {
            "text/plain": [
              "<Figure size 432x288 with 1 Axes>"
            ],
            "image/png": "[encoded data removed]"
          },
          "metadata": {
            "needs_background": "light"
          }
        },
        {
          "output_type": "display_data",
          "data": {
            "text/plain": [
              "<Figure size 432x288 with 1 Axes>"
            ],
            "image/png": "[encoded data removed]"
          },
          "metadata": {
            "needs_background": "light"
          }
        },
        {
          "output_type": "display_data",
          "data": {
            "text/plain": [
              "<Figure size 432x288 with 1 Axes>"
            ],
            "image/png": "[encoded data removed]"
          },
          "metadata": {
            "needs_background": "light"
          }
        },
        {
          "output_type": "display_data",
          "data": {
            "text/plain": [
              "<Figure size 432x288 with 1 Axes>"
            ],
            "image/png": "[encoded data removed]"
          },
          "metadata": {
            "needs_background": "light"
          }
        },
        {
          "output_type": "display_data",
          "data": {
            "text/plain": [
              "<Figure size 432x288 with 1 Axes>"
            ],
            "image/png": "[encoded data removed]"
          },
          "metadata": {
            "needs_background": "light"
          }
        },
        {
          "output_type": "display_data",
          "data": {
            "text/plain": [
              "<Figure size 432x288 with 1 Axes>"
            ],
            "image/png": "[encoded data removed]"
          },
          "metadata": {
            "needs_background": "light"
          }
        },
        {
          "output_type": "display_data",
          "data": {
            "text/plain": [
              "<Figure size 432x288 with 1 Axes>"
            ],
            "image/png": "[encoded data removed]"
          },
          "metadata": {
            "needs_background": "light"
          }
        },
        {
          "output_type": "display_data",
          "data": {
            "text/plain": [
              "<Figure size 432x288 with 1 Axes>"
            ],
            "image/png": "[encoded data removed]"
          },
          "metadata": {
            "needs_background": "light"
          }
        }
      ]
    },
    {
      "cell_type": "markdown",
      "source": [
        "##Visualiziing the filter"
      ],
      "metadata": {
        "id": "VP43zVbCi-zI"
      }
    },
    {
      "cell_type": "code",
      "source": [
        "for layer in right_position_model.layers:\n",
        "    if 'conv' in layer.name:\n",
        "        filters, bias= layer.get_weights()\n",
        "        print(layer.name, filters.shape)\n",
        "        \n",
        "        #normalize filter values between  0 and 1 for visualization\n",
        "        f_min, f_max = filters.min(), filters.max()\n",
        "        filters = (filters - f_min) / (f_max - f_min)  \n",
        "        # print(filters.shape[3])\n",
        "        filter_cnt=1\n",
        "        \n",
        "        #plotting all the filters\n",
        "        for i in range(filters.shape[3]):\n",
        "            #get the filters\n",
        "            filt=filters[:,:,:, i]\n",
        "            #plotting each of the channel, color image RGB channels\n",
        "            plt.figure()\n",
        "            plt.imshow(filt[:,:,0],cmap='gray')\n",
        "            # ax.set_xticks([])\n",
        "            # ax.set_yticks([])\n",
        "            # plt.imshow()\n",
        "            filter_cnt+=1\n",
        "        plt.show()"
      ],
      "metadata": {
        "colab": {
          "base_uri": "https://localhost:8080/",
          "height": 284
        },
        "outputId": "18566450-758b-4568-d1f1-5e71a2299e7c",
        "id": "Am2_uwiDi-zI"
      },
      "execution_count": 11,
      "outputs": [
        {
          "output_type": "stream",
          "name": "stdout",
          "text": [
            "conv2d (5, 5, 1, 1)\n"
          ]
        },
        {
          "output_type": "display_data",
          "data": {
            "text/plain": [
              "<Figure size 432x288 with 1 Axes>"
            ],
            "image/png": "[encoded data removed]"
          },
          "metadata": {
            "needs_background": "light"
          }
        }
      ]
    },
    {
      "cell_type": "code",
      "source": [
        "x = []\n",
        "y = []\n",
        "predict_length = 3\n",
        "for game in games:\n",
        "  for idx,frame in enumerate(game.frames[2:]):\n",
        "    idx = idx+2\n",
        "    if game.collision[idx] or game.bounce[idx]:continue\n",
        "    x.append(np.array(game.ball_pos[idx-predict_length:idx]).flatten())\n",
        "    y.append(np.array([game.ball_vel[idx]]).flatten())\n",
        "x = np.array(x)\n",
        "y = np.array(y)\n",
        "print(x.shape,y.shape)"
      ],
      "metadata": {
        "colab": {
          "base_uri": "https://localhost:8080/"
        },
        "id": "BjmNnX9x-4IE",
        "outputId": "e0d166c7-daa2-4f70-cf37-54823ce8b1f6"
      },
      "execution_count": 46,
      "outputs": [
        {
          "output_type": "stream",
          "name": "stdout",
          "text": [
            "(68369, 6) (68369, 2)\n"
          ]
        }
      ]
    },
    {
      "cell_type": "code",
      "source": [
        "ball_velocity_model = Sequential()\n",
        "ball_velocity_model.add(Dense(2, activation='linear',input_shape = (6,)))\n",
        "ball_velocity_model.compile(optimizer='adam', loss='mse')\n",
        "ball_velocity_model.summary()\n",
        "plot_model(ball_velocity_model)"
      ],
      "metadata": {
        "colab": {
          "base_uri": "https://localhost:8080/"
        },
        "id": "l5CDmXaIHrXJ",
        "outputId": "4f6945a3-823b-459b-ed93-69d1023a64e1"
      },
      "execution_count": 54,
      "outputs": [
        {
          "output_type": "stream",
          "name": "stdout",
          "text": [
            "Model: \"sequential_6\"\n",
            "_________________________________________________________________\n",
            " Layer (type)                Output Shape              Param #   \n",
            "=================================================================\n",
            " dense_5 (Dense)             (None, 2)                 14        \n",
            "                                                                 \n",
            "=================================================================\n",
            "Total params: 14\n",
            "Trainable params: 14\n",
            "Non-trainable params: 0\n",
            "_________________________________________________________________\n",
            "You must install pydot (`pip install pydot`) and install graphviz (see instructions at https://graphviz.gitlab.io/download/) for plot_model to work.\n"
          ]
        }
      ]
    },
    {
      "cell_type": "code",
      "source": [
        "history = ball_velocity_model.fit(x,y,batch_size = 1,verbose=1,epochs=2)\n",
        "losses = pd.DataFrame(history.history)\n",
        "losses.plot()"
      ],
      "metadata": {
        "colab": {
          "base_uri": "https://localhost:8080/",
          "height": 284
        },
        "id": "3HB6ufNBKdkN",
        "outputId": "40ac6aa3-2757-45a5-91b2-1c1f890aad1c"
      },
      "execution_count": 57,
      "outputs": [
        {
          "output_type": "execute_result",
          "data": {
            "text/plain": [
              "<AxesSubplot:>"
            ]
          },
          "metadata": {},
          "execution_count": 57
        },
        {
          "output_type": "display_data",
          "data": {
            "text/plain": [
              "<Figure size 432x288 with 1 Axes>"
            ],
            "image/png": "[encoded data removed]"
          },
          "metadata": {
            "needs_background": "light"
          }
        }
      ]
    },
    {
      "cell_type": "code",
      "source": [
        "x = []\n",
        "y = []\n",
        "predict_length = 2\n",
        "for game in games:\n",
        "  for idx,frame in enumerate(game.frames[2:]):\n",
        "    idx = idx+2\n",
        "    if game.collision[idx] or not game.bounce[idx]:continue\n",
        "    x.append(np.array(game.ball_pos[idx-predict_length:idx]).flatten())\n",
        "    y.append(np.array([game.ball_vel[idx]]).flatten())\n",
        "x = np.array(x)/2.0\n",
        "y = np.array(y)/2.0\n",
        "print(x.shape,y.shape)"
      ],
      "metadata": {
        "colab": {
          "base_uri": "https://localhost:8080/"
        },
        "id": "0Pvy76x3K89u",
        "outputId": "1228e98a-e7b6-485e-bba4-0971e3c38741"
      },
      "execution_count": 89,
      "outputs": [
        {
          "output_type": "stream",
          "name": "stdout",
          "text": [
            "(574, 4) (574, 2)\n"
          ]
        }
      ]
    },
    {
      "cell_type": "code",
      "source": [
        "print(x[0],y[0])"
      ],
      "metadata": {
        "colab": {
          "base_uri": "https://localhost:8080/"
        },
        "id": "la6sk44fMtvx",
        "outputId": "e576c3ad-318f-472d-b2dc-5d9c3a43dbbb"
      },
      "execution_count": 90,
      "outputs": [
        {
          "output_type": "stream",
          "name": "stdout",
          "text": [
            "[1. 1. 1. 1.] [ 1. -1.]\n"
          ]
        }
      ]
    },
    {
      "cell_type": "code",
      "source": [
        "ball_velocity_model = Sequential()\n",
        "ball_velocity_model.add(Dense(2, activation='linear',input_shape = (4,)))\n",
        "ball_velocity_model.compile(optimizer='adam', loss='mse')\n",
        "ball_velocity_model.summary()"
      ],
      "metadata": {
        "colab": {
          "base_uri": "https://localhost:8080/"
        },
        "id": "QPpS9xLQMeoa",
        "outputId": "d99e1b54-d63f-4250-e7e3-48202c22d996"
      },
      "execution_count": 96,
      "outputs": [
        {
          "output_type": "stream",
          "name": "stdout",
          "text": [
            "Model: \"sequential_14\"\n",
            "_________________________________________________________________\n",
            " Layer (type)                Output Shape              Param #   \n",
            "=================================================================\n",
            " dense_13 (Dense)            (None, 2)                 10        \n",
            "                                                                 \n",
            "=================================================================\n",
            "Total params: 10\n",
            "Trainable params: 10\n",
            "Non-trainable params: 0\n",
            "_________________________________________________________________\n"
          ]
        }
      ]
    },
    {
      "cell_type": "code",
      "source": [
        "history = ball_velocity_model.fit(x,y,batch_size = 1,verbose=1,epochs=50,callbacks=[early_stop])\n",
        "losses = pd.DataFrame(history.history)\n",
        "losses.plot()"
      ],
      "metadata": {
        "colab": {
          "base_uri": "https://localhost:8080/",
          "height": 1000
        },
        "id": "lRpGkLF3MjVh",
        "outputId": "1d3c405b-60dd-405f-e0b0-04b59faf8c42"
      },
      "execution_count": 97,
      "outputs": [
        {
          "output_type": "stream",
          "name": "stdout",
          "text": [
            "Epoch 1/50\n",
            "574/574 [==============================] - 1s 959us/step - loss: 0.4618\n",
            "Epoch 2/50\n",
            "574/574 [==============================] - 1s 947us/step - loss: 0.0829\n",
            "Epoch 3/50\n",
            "574/574 [==============================] - 1s 993us/step - loss: 0.0153\n",
            "Epoch 4/50\n",
            "574/574 [==============================] - 1s 934us/step - loss: 0.0053\n",
            "Epoch 5/50\n",
            "574/574 [==============================] - 1s 1ms/step - loss: 0.0042\n",
            "Epoch 6/50\n",
            "574/574 [==============================] - 1s 953us/step - loss: 0.0039\n",
            "Epoch 7/50\n",
            "574/574 [==============================] - 1s 949us/step - loss: 0.0036\n",
            "Epoch 8/50\n",
            "574/574 [==============================] - 1s 946us/step - loss: 0.0034\n",
            "Epoch 9/50\n",
            "574/574 [==============================] - 1s 1ms/step - loss: 0.0031\n",
            "Epoch 10/50\n",
            "574/574 [==============================] - 1s 1ms/step - loss: 0.0028\n",
            "Epoch 11/50\n",
            "574/574 [==============================] - 1s 966us/step - loss: 0.0026\n",
            "Epoch 12/50\n",
            "574/574 [==============================] - 1s 971us/step - loss: 0.0023\n",
            "Epoch 13/50\n",
            "574/574 [==============================] - 1s 1ms/step - loss: 0.0021\n",
            "Epoch 14/50\n",
            "574/574 [==============================] - 1s 1ms/step - loss: 0.0018\n",
            "Epoch 15/50\n",
            "574/574 [==============================] - 1s 1ms/step - loss: 0.0016\n",
            "Epoch 16/50\n",
            "574/574 [==============================] - 1s 927us/step - loss: 0.0015\n",
            "Epoch 17/50\n",
            "574/574 [==============================] - 1s 1ms/step - loss: 0.0013\n",
            "Epoch 18/50\n",
            "574/574 [==============================] - 1s 1ms/step - loss: 0.0011\n",
            "Epoch 19/50\n",
            "574/574 [==============================] - 1s 981us/step - loss: 9.3786e-04\n",
            "Epoch 20/50\n",
            "574/574 [==============================] - 1s 1ms/step - loss: 7.8966e-04\n",
            "Epoch 21/50\n",
            "574/574 [==============================] - 1s 959us/step - loss: 6.7899e-04\n",
            "Epoch 22/50\n",
            "574/574 [==============================] - 1s 968us/step - loss: 5.6279e-04\n",
            "Epoch 23/50\n",
            "574/574 [==============================] - 1s 1ms/step - loss: 4.6327e-04\n",
            "Epoch 24/50\n",
            "574/574 [==============================] - 1s 992us/step - loss: 3.7047e-04\n",
            "Epoch 25/50\n",
            "574/574 [==============================] - 1s 984us/step - loss: 2.9384e-04\n",
            "Epoch 26/50\n",
            "574/574 [==============================] - 1s 1ms/step - loss: 2.2726e-04\n",
            "Epoch 27/50\n",
            "574/574 [==============================] - 1s 1ms/step - loss: 1.7448e-04\n",
            "Epoch 28/50\n",
            "574/574 [==============================] - 1s 1ms/step - loss: 1.3463e-04\n",
            "Epoch 29/50\n",
            "574/574 [==============================] - 1s 1ms/step - loss: 9.1184e-05\n",
            "Epoch 30/50\n",
            "574/574 [==============================] - 1s 1ms/step - loss: 6.2150e-05\n",
            "Epoch 31/50\n",
            "574/574 [==============================] - 1s 1ms/step - loss: 4.1888e-05\n",
            "Epoch 32/50\n",
            "574/574 [==============================] - 1s 968us/step - loss: 2.4981e-05\n",
            "Epoch 33/50\n",
            "574/574 [==============================] - 1s 1ms/step - loss: 1.4388e-05\n",
            "Epoch 34/50\n",
            "574/574 [==============================] - 1s 1ms/step - loss: 9.3028e-06\n",
            "Epoch 35/50\n",
            "574/574 [==============================] - 1s 1ms/step - loss: 2.9103e-06\n",
            "Epoch 36/50\n",
            "574/574 [==============================] - 1s 1ms/step - loss: 3.0158e-06\n",
            "Epoch 37/50\n",
            "574/574 [==============================] - 1s 1ms/step - loss: 7.4983e-07\n",
            "Epoch 38/50\n",
            "574/574 [==============================] - 1s 1ms/step - loss: 1.7991e-08\n",
            "Epoch 39/50\n",
            "574/574 [==============================] - 1s 1ms/step - loss: 2.8133e-06\n",
            "Epoch 40/50\n",
            "574/574 [==============================] - 1s 965us/step - loss: 1.7568e-08\n",
            "Epoch 41/50\n",
            "574/574 [==============================] - 1s 941us/step - loss: 4.8618e-09\n",
            "Epoch 42/50\n",
            "574/574 [==============================] - 1s 957us/step - loss: 6.7098e-06\n",
            "Epoch 43/50\n",
            "574/574 [==============================] - 1s 960us/step - loss: 6.2187e-08\n"
          ]
        },
        {
          "output_type": "execute_result",
          "data": {
            "text/plain": [
              "<AxesSubplot:>"
            ]
          },
          "metadata": {},
          "execution_count": 97
        },
        {
          "output_type": "display_data",
          "data": {
            "text/plain": [
              "<Figure size 432x288 with 1 Axes>"
            ],
            "image/png": "[encoded data removed]"
          },
          "metadata": {
            "needs_background": "light"
          }
        }
      ]
    },
    {
      "cell_type": "code",
      "source": [
        "print(ball_velocity_model.predict(np.array([x[123]]))*2)\n",
        "print(y[123]*2)"
      ],
      "metadata": {
        "colab": {
          "base_uri": "https://localhost:8080/"
        },
        "id": "ZiFmwCeGNvGV",
        "outputId": "de682169-313e-41c2-9abd-afe4de7e7b60"
      },
      "execution_count": 101,
      "outputs": [
        {
          "output_type": "stream",
          "name": "stdout",
          "text": [
            "1/1 [==============================] - 0s 26ms/step\n",
            "[[1.4199747 1.519763 ]]\n",
            "[1.42 1.52]\n"
          ]
        }
      ]
    },
    {
      "cell_type": "code",
      "source": [
        "x = []\n",
        "y = []\n",
        "predict_length = 2\n",
        "for game in games:\n",
        "  for idx,frame in enumerate(game.frames[2:]):\n",
        "    idx = idx+2\n",
        "    if not game.left_collision[idx]:continue\n",
        "    x.append(np.array([game.ball_pos[idx-1][1]/128.0,game.left_pos[idx-1]/128.0]).flatten())\n",
        "    y.append(np.array([game.ball_vel[idx]]).flatten())\n",
        "x = np.array(x)\n",
        "y = np.array(y)\n",
        "print(x.shape,y.shape)"
      ],
      "metadata": {
        "colab": {
          "base_uri": "https://localhost:8080/"
        },
        "id": "i355at-FQav3",
        "outputId": "8c4d71c7-9c32-4718-893b-fb47910ea1cd"
      },
      "execution_count": 124,
      "outputs": [
        {
          "output_type": "stream",
          "name": "stdout",
          "text": [
            "(346, 2) (346, 2)\n"
          ]
        }
      ]
    },
    {
      "cell_type": "code",
      "source": [
        "ball_velocity_model = Sequential()\n",
        "ball_velocity_model.add(Dense(10, activation='sigmoid',input_shape = (2,)))\n",
        "ball_velocity_model.add(Dense(10, activation='sigmoid'))\n",
        "ball_velocity_model.add(Dense(2, activation='linear'))\n",
        "ball_velocity_model.compile(optimizer='adam', loss='mse')\n",
        "ball_velocity_model.summary()"
      ],
      "metadata": {
        "colab": {
          "base_uri": "https://localhost:8080/"
        },
        "id": "B0hjXno_RwHs",
        "outputId": "7fc1f226-b1a9-4316-aa75-22d061ba85a5"
      },
      "execution_count": 115,
      "outputs": [
        {
          "output_type": "stream",
          "name": "stdout",
          "text": [
            "Model: \"sequential_15\"\n",
            "_________________________________________________________________\n",
            " Layer (type)                Output Shape              Param #   \n",
            "=================================================================\n",
            " dense_14 (Dense)            (None, 10)                30        \n",
            "                                                                 \n",
            " dense_15 (Dense)            (None, 10)                110       \n",
            "                                                                 \n",
            " dense_16 (Dense)            (None, 2)                 22        \n",
            "                                                                 \n",
            "=================================================================\n",
            "Total params: 162\n",
            "Trainable params: 162\n",
            "Non-trainable params: 0\n",
            "_________________________________________________________________\n"
          ]
        }
      ]
    },
    {
      "cell_type": "code",
      "source": [
        "history = ball_velocity_model.fit(x,y,batch_size = 1,verbose=1,epochs=50,callbacks=[early_stop])\n",
        "losses = pd.DataFrame(history.history)\n",
        "losses.plot()"
      ],
      "metadata": {
        "colab": {
          "base_uri": "https://localhost:8080/",
          "height": 1000
        },
        "id": "jVam-u18SLK4",
        "outputId": "55cb81a2-703a-4881-d39c-2f377e503002"
      },
      "execution_count": 116,
      "outputs": [
        {
          "output_type": "stream",
          "name": "stdout",
          "text": [
            "Epoch 1/50\n",
            "346/346 [==============================] - 1s 1ms/step - loss: 1.2074\n",
            "Epoch 2/50\n",
            "346/346 [==============================] - 0s 1ms/step - loss: 0.6133\n",
            "Epoch 3/50\n",
            "346/346 [==============================] - 0s 1ms/step - loss: 0.5826\n",
            "Epoch 4/50\n",
            "346/346 [==============================] - 0s 1ms/step - loss: 0.5446\n",
            "Epoch 5/50\n",
            "346/346 [==============================] - 0s 1ms/step - loss: 0.4931\n",
            "Epoch 6/50\n",
            "346/346 [==============================] - 0s 1ms/step - loss: 0.4192\n",
            "Epoch 7/50\n",
            "346/346 [==============================] - 0s 1ms/step - loss: 0.3418\n",
            "Epoch 8/50\n",
            "346/346 [==============================] - 0s 1ms/step - loss: 0.2596\n",
            "Epoch 9/50\n",
            "346/346 [==============================] - 0s 1ms/step - loss: 0.1940\n",
            "Epoch 10/50\n",
            "346/346 [==============================] - 0s 1ms/step - loss: 0.1476\n",
            "Epoch 11/50\n",
            "346/346 [==============================] - 0s 1ms/step - loss: 0.1191\n",
            "Epoch 12/50\n",
            "346/346 [==============================] - 0s 1ms/step - loss: 0.1029\n",
            "Epoch 13/50\n",
            "346/346 [==============================] - 0s 1ms/step - loss: 0.0943\n",
            "Epoch 14/50\n",
            "346/346 [==============================] - 0s 1ms/step - loss: 0.0887\n",
            "Epoch 15/50\n",
            "346/346 [==============================] - 0s 1ms/step - loss: 0.0836\n",
            "Epoch 16/50\n",
            "346/346 [==============================] - 0s 1ms/step - loss: 0.0790\n",
            "Epoch 17/50\n",
            "346/346 [==============================] - 0s 1ms/step - loss: 0.0757\n",
            "Epoch 18/50\n",
            "346/346 [==============================] - 0s 1ms/step - loss: 0.0721\n",
            "Epoch 19/50\n",
            "346/346 [==============================] - 0s 1ms/step - loss: 0.0685\n",
            "Epoch 20/50\n",
            "346/346 [==============================] - 0s 1ms/step - loss: 0.0664\n",
            "Epoch 21/50\n",
            "346/346 [==============================] - 0s 1ms/step - loss: 0.0640\n",
            "Epoch 22/50\n",
            "346/346 [==============================] - 0s 1ms/step - loss: 0.0609\n",
            "Epoch 23/50\n",
            "346/346 [==============================] - 1s 2ms/step - loss: 0.0586\n",
            "Epoch 24/50\n",
            "346/346 [==============================] - 0s 1ms/step - loss: 0.0561\n",
            "Epoch 25/50\n",
            "346/346 [==============================] - 0s 1ms/step - loss: 0.0546\n",
            "Epoch 26/50\n",
            "346/346 [==============================] - 0s 1ms/step - loss: 0.0526\n",
            "Epoch 27/50\n",
            "346/346 [==============================] - 1s 2ms/step - loss: 0.0509\n",
            "Epoch 28/50\n",
            "346/346 [==============================] - 0s 1ms/step - loss: 0.0491\n",
            "Epoch 29/50\n",
            "346/346 [==============================] - 0s 956us/step - loss: 0.0478\n",
            "Epoch 30/50\n",
            "346/346 [==============================] - 0s 933us/step - loss: 0.0465\n",
            "Epoch 31/50\n",
            "346/346 [==============================] - 0s 911us/step - loss: 0.0454\n",
            "Epoch 32/50\n",
            "346/346 [==============================] - 0s 927us/step - loss: 0.0441\n",
            "Epoch 33/50\n",
            "346/346 [==============================] - 1s 2ms/step - loss: 0.0432\n",
            "Epoch 34/50\n",
            "346/346 [==============================] - 0s 1ms/step - loss: 0.0428\n",
            "Epoch 35/50\n",
            "346/346 [==============================] - 1s 2ms/step - loss: 0.0422\n",
            "Epoch 36/50\n",
            "346/346 [==============================] - 0s 1ms/step - loss: 0.0413\n",
            "Epoch 37/50\n",
            "346/346 [==============================] - 1s 2ms/step - loss: 0.0414\n",
            "Epoch 38/50\n",
            "346/346 [==============================] - 0s 1ms/step - loss: 0.0410\n",
            "Epoch 39/50\n",
            "346/346 [==============================] - 0s 1ms/step - loss: 0.0409\n",
            "Epoch 40/50\n",
            "346/346 [==============================] - 1s 2ms/step - loss: 0.0404\n",
            "Epoch 41/50\n",
            "346/346 [==============================] - 0s 1ms/step - loss: 0.0404\n",
            "Epoch 42/50\n",
            "346/346 [==============================] - 1s 1ms/step - loss: 0.0403\n",
            "Epoch 43/50\n",
            "346/346 [==============================] - 0s 1ms/step - loss: 0.0399\n",
            "Epoch 44/50\n",
            "346/346 [==============================] - 0s 1ms/step - loss: 0.0398\n",
            "Epoch 45/50\n",
            "346/346 [==============================] - 0s 1ms/step - loss: 0.0397\n",
            "Epoch 46/50\n",
            "346/346 [==============================] - 1s 2ms/step - loss: 0.0393\n",
            "Epoch 47/50\n",
            "346/346 [==============================] - 0s 1ms/step - loss: 0.0395\n",
            "Epoch 48/50\n",
            "346/346 [==============================] - 1s 2ms/step - loss: 0.0393\n",
            "Epoch 49/50\n",
            "346/346 [==============================] - 0s 1ms/step - loss: 0.0392\n",
            "Epoch 50/50\n",
            "346/346 [==============================] - 1s 2ms/step - loss: 0.0389\n"
          ]
        },
        {
          "output_type": "execute_result",
          "data": {
            "text/plain": [
              "<AxesSubplot:>"
            ]
          },
          "metadata": {},
          "execution_count": 116
        },
        {
          "output_type": "display_data",
          "data": {
            "text/plain": [
              "<Figure size 432x288 with 1 Axes>"
            ],
            "image/png": "[encoded data removed]"
          },
          "metadata": {
            "needs_background": "light"
          }
        }
      ]
    },
    {
      "cell_type": "code",
      "source": [
        "indices = []\n",
        "for gidx,game in enumerate(games):\n",
        "  for idx,frame in enumerate(game.frames[2:]):\n",
        "    idx = idx+2\n",
        "    if not game.left_collision[idx]:continue\n",
        "    indices.append((gidx,idx))\n",
        "print(indices[:10])\n",
        "\n",
        "game_index = 1\n",
        "frame_index = 736\n",
        "x_test = np.array([games[game_index].ball_pos[frame_index-1][1]/128.0,games[game_index].left_pos[frame_index-1]/128.0]).flatten()\n",
        "print(ball_velocity_model.predict(np.array([x_test])))\n",
        "print(games[game_index].ball_vel[frame_index])"
      ],
      "metadata": {
        "colab": {
          "base_uri": "https://localhost:8080/"
        },
        "id": "IPDEiyz2Td2O",
        "outputId": "4cfe1e42-2565-425c-bdc1-d81ef1ad52c8"
      },
      "execution_count": 122,
      "outputs": [
        {
          "output_type": "stream",
          "name": "stdout",
          "text": [
            "[(0, 121), (0, 260), (0, 632), (0, 805), (0, 942), (1, 122), (1, 260), (1, 383), (1, 544), (1, 736)]\n",
            "1/1 [==============================] - 0s 20ms/step\n",
            "[[ 1.1518178 -1.6719587]]\n",
            "[ 1.12 -1.77]\n"
          ]
        }
      ]
    },
    {
      "cell_type": "code",
      "source": [
        "predicted = ball_velocity_model.predict(x)\n",
        "print(predicted.shape,y.shape)\n"
      ],
      "metadata": {
        "colab": {
          "base_uri": "https://localhost:8080/"
        },
        "id": "ZRwYJk2SToJ9",
        "outputId": "fbfbc0b8-5928-4200-a442-f23cde68d3b7"
      },
      "execution_count": 125,
      "outputs": [
        {
          "output_type": "stream",
          "name": "stdout",
          "text": [
            "11/11 [==============================] - 0s 1ms/step\n",
            "(346, 2) (346, 2)\n"
          ]
        }
      ]
    },
    {
      "cell_type": "code",
      "source": [
        "plt.figure()\n",
        "plt.plot(predicted[:,0]-y[:,0])\n",
        "# plt.plot(y[:,0])\n",
        "plt.figure()\n",
        "plt.plot(predicted[:,1]-y[:,1])\n",
        "# plt.plot(])"
      ],
      "metadata": {
        "colab": {
          "base_uri": "https://localhost:8080/",
          "height": 534
        },
        "id": "5--0mc_tXdXE",
        "outputId": "0334b837-135d-4b3a-973c-4cb2f26c39a8"
      },
      "execution_count": 130,
      "outputs": [
        {
          "output_type": "execute_result",
          "data": {
            "text/plain": [
              "[<matplotlib.lines.Line2D at 0x17909f96b20>]"
            ]
          },
          "metadata": {},
          "execution_count": 130
        },
        {
          "output_type": "display_data",
          "data": {
            "text/plain": [
              "<Figure size 432x288 with 1 Axes>"
            ],
            "image/png": "[encoded data removed]"
          },
          "metadata": {
            "needs_background": "light"
          }
        },
        {
          "output_type": "display_data",
          "data": {
            "text/plain": [
              "<Figure size 432x288 with 1 Axes>"
            ],
            "image/png": "[encoded data removed]"
          },
          "metadata": {
            "needs_background": "light"
          }
        }
      ]
    },
    {
      "cell_type": "code",
      "source": [
        "free_x = []\n",
        "bounce_x = []\n",
        "collided_x = []\n",
        "free_y = []\n",
        "bounce_y = []\n",
        "collided_y = []\n",
        "\n",
        "total_examples = 5000\n",
        "\n",
        "for game in games:\n",
        "  for idx,frame in enumerate(game.frames[2:]):\n",
        "    idx = idx+2\n",
        "    if game.bounce[idx]:\n",
        "      bounce_x.append(np.array([game.ball_pos[idx][0],game.ball_pos[idx][1],game.right_pos[idx],game.left_pos[idx],3,128.0,0.0]).flatten())\n",
        "      bounce_y.append(0)\n",
        "    elif game.collision[idx]:\n",
        "      collided_x.append(np.array([game.ball_pos[idx][0],game.ball_pos[idx][1],game.right_pos[idx],game.left_pos[idx],3,128.0,0.0]).flatten())\n",
        "      collided_y.append(1)\n",
        "    else:\n",
        "      free_x.append(np.array([game.ball_pos[idx][0],game.ball_pos[idx][1],game.right_pos[idx],game.left_pos[idx],3,128.0,0.0]).flatten())\n",
        "      free_y.append(2)\n",
        "free_x = np.array(free_x)\n",
        "free_y = np.array(free_y)\n",
        "bounce_x = np.array(bounce_x)\n",
        "bounce_y = np.array(bounce_y)\n",
        "collided_x = np.array(collided_x)\n",
        "collided_y = np.array(collided_y)\n",
        "\n",
        "print(free_x.shape,free_y.shape,bounce_x.shape,bounce_y.shape,collided_x.shape,collided_y.shape)"
      ],
      "metadata": {
        "colab": {
          "base_uri": "https://localhost:8080/"
        },
        "id": "BrnRDOS-Z08m",
        "outputId": "1a782987-6b8d-4f13-95d3-850cda7e3a0b"
      },
      "execution_count": 177,
      "outputs": [
        {
          "output_type": "stream",
          "name": "stdout",
          "text": [
            "(68369, 7) (68369,) (578, 7) (578,) (757, 7) (757,)\n"
          ]
        }
      ]
    },
    {
      "cell_type": "code",
      "source": [
        "free_idx = np.random.randint(free_x.shape[0],size=total_examples)\n",
        "bounce_idx = np.resize(np.arange(bounce_x.shape[0]),total_examples)\n",
        "collided_idx = np.resize(np.arange(collided_x.shape[0]),total_examples)\n",
        "print(bounce_idx,bounce_idx.shape,collided_idx,collided_idx.shape)"
      ],
      "metadata": {
        "colab": {
          "base_uri": "https://localhost:8080/"
        },
        "id": "pGxmQ6DafeMR",
        "outputId": "fb612302-7b43-4a94-9738-78f35956fce0"
      },
      "execution_count": 178,
      "outputs": [
        {
          "output_type": "stream",
          "name": "stdout",
          "text": [
            "[  0   1   2 ... 373 374 375] (5000,) [  0   1   2 ... 455 456 457] (5000,)\n"
          ]
        }
      ]
    },
    {
      "cell_type": "code",
      "source": [
        "\n",
        "x = np.array([free_x[free_idx,:],bounce_x[bounce_idx,:],collided_x[collided_idx,:]]).reshape((3*5000,7))\n",
        "y = np.array([free_y[free_idx]]+[bounce_y[bounce_idx]]+[collided_y[collided_idx]]).flatten()\n",
        "print(x.shape,y.shape)"
      ],
      "metadata": {
        "colab": {
          "base_uri": "https://localhost:8080/"
        },
        "id": "0EtYZP1sgZGB",
        "outputId": "8fa773a0-4165-4605-831e-36a124df2290"
      },
      "execution_count": 278,
      "outputs": [
        {
          "output_type": "stream",
          "name": "stdout",
          "text": [
            "(15000, 7) (15000,)\n"
          ]
        }
      ]
    },
    {
      "cell_type": "code",
      "source": [
        "ball_state_classification_model = Sequential()\n",
        "ball_state_classification_model.add(Dense(10, activation='sigmoid',input_shape = (7,)))\n",
        "ball_state_classification_model.add(Dense(10, activation='relu'))\n",
        "ball_state_classification_model.add(Dense(3, activation='softmax'))\n",
        "ball_state_classification_model.compile(optimizer='adam', loss=tf.keras.losses.SparseCategoricalCrossentropy())\n",
        "ball_state_classification_model.summary()"
      ],
      "metadata": {
        "colab": {
          "base_uri": "https://localhost:8080/"
        },
        "id": "ylz2CTHBa20e",
        "outputId": "c62c7940-1ad5-4c41-fb64-7b3177c0bd87"
      },
      "execution_count": 195,
      "outputs": [
        {
          "output_type": "stream",
          "name": "stdout",
          "text": [
            "Model: \"sequential_21\"\n",
            "_________________________________________________________________\n",
            " Layer (type)                Output Shape              Param #   \n",
            "=================================================================\n",
            " dense_32 (Dense)            (None, 10)                80        \n",
            "                                                                 \n",
            " dense_33 (Dense)            (None, 10)                110       \n",
            "                                                                 \n",
            " dense_34 (Dense)            (None, 3)                 33        \n",
            "                                                                 \n",
            "=================================================================\n",
            "Total params: 223\n",
            "Trainable params: 223\n",
            "Non-trainable params: 0\n",
            "_________________________________________________________________\n"
          ]
        }
      ]
    },
    {
      "cell_type": "code",
      "source": [
        "history = ball_state_classification_model.fit(x,y,batch_size = 1,verbose=1,epochs=25,callbacks=[early_stop],shuffle=True)\n",
        "losses = pd.DataFrame(history.history)\n",
        "losses.plot()"
      ],
      "metadata": {
        "colab": {
          "base_uri": "https://localhost:8080/",
          "height": 891
        },
        "id": "xZCptuwbb6Uj",
        "outputId": "6e54eb5d-7156-458f-db0e-0a69dbcdf0eb"
      },
      "execution_count": 196,
      "outputs": [
        {
          "output_type": "stream",
          "name": "stdout",
          "text": [
            "Epoch 1/25\n",
            "15000/15000 [==============================] - 17s 1ms/step - loss: 0.7730\n",
            "Epoch 2/25\n",
            "15000/15000 [==============================] - 16s 1ms/step - loss: 0.6079\n",
            "Epoch 3/25\n",
            "15000/15000 [==============================] - 17s 1ms/step - loss: 0.5049\n",
            "Epoch 4/25\n",
            "15000/15000 [==============================] - 16s 1ms/step - loss: 0.4772\n",
            "Epoch 5/25\n",
            "15000/15000 [==============================] - 20s 1ms/step - loss: 0.4635\n",
            "Epoch 6/25\n",
            "15000/15000 [==============================] - 16s 1ms/step - loss: 0.5640\n",
            "Epoch 7/25\n",
            "15000/15000 [==============================] - 16s 1ms/step - loss: 0.4099\n",
            "Epoch 8/25\n",
            "15000/15000 [==============================] - 17s 1ms/step - loss: 0.2270\n",
            "Epoch 9/25\n",
            "15000/15000 [==============================] - 16s 1ms/step - loss: 0.2034\n",
            "Epoch 10/25\n",
            "15000/15000 [==============================] - 17s 1ms/step - loss: 0.1988\n",
            "Epoch 11/25\n",
            "15000/15000 [==============================] - 15s 1ms/step - loss: 0.1960\n",
            "Epoch 12/25\n",
            "15000/15000 [==============================] - 16s 1ms/step - loss: 0.1952\n",
            "Epoch 13/25\n",
            "15000/15000 [==============================] - 15s 1ms/step - loss: 0.1927\n",
            "Epoch 14/25\n",
            "15000/15000 [==============================] - 15s 1ms/step - loss: 0.1826\n",
            "Epoch 15/25\n",
            "15000/15000 [==============================] - 19s 1ms/step - loss: 0.1879\n",
            "Epoch 16/25\n",
            "15000/15000 [==============================] - 18s 1ms/step - loss: 0.1885\n"
          ]
        },
        {
          "output_type": "execute_result",
          "data": {
            "text/plain": [
              "<AxesSubplot:>"
            ]
          },
          "metadata": {},
          "execution_count": 196
        },
        {
          "output_type": "display_data",
          "data": {
            "text/plain": [
              "<Figure size 432x288 with 1 Axes>"
            ],
            "image/png": "[encoded data removed]"
          },
          "metadata": {
            "needs_background": "light"
          }
        }
      ]
    },
    {
      "cell_type": "code",
      "source": [
        "from sklearn.metrics import confusion_matrix\n",
        "import seaborn as sn\n",
        "\n",
        "pred = ball_state_classification_model.predict(x)\n",
        "result = confusion_matrix(y, np.argmax(pred,axis=1) , normalize='pred')\n",
        "sn.heatmap(result, annot=True, annot_kws={\"size\": 16}) # font size\n",
        "plt.show()\n"
      ],
      "metadata": {
        "colab": {
          "base_uri": "https://localhost:8080/",
          "height": 288
        },
        "id": "ezPTJKXCcNuu",
        "outputId": "a118264d-399e-4d04-dee5-86d8ecb5acbc"
      },
      "execution_count": 225,
      "outputs": [
        {
          "output_type": "stream",
          "name": "stdout",
          "text": [
            "469/469 [==============================] - 1s 1ms/step\n"
          ]
        },
        {
          "output_type": "display_data",
          "data": {
            "text/plain": [
              "<Figure size 432x288 with 2 Axes>"
            ],
            "image/png": "[encoded data removed]"
          },
          "metadata": {
            "needs_background": "light"
          }
        }
      ]
    }
  ]
}